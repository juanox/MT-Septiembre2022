{
 "cells": [
  {
   "cell_type": "code",
   "execution_count": null,
   "metadata": {},
   "outputs": [],
   "source": [
    "from matplotlib import pyplot as plt\n",
    "dev_x = [25, 26, 27, 28, 29, 30, 31,32, 33, 34, 35]\n",
    "dev_y = [38496, 72342, 86343, 97233, 42132, 23423, 32323, 45634, 56345, 84564, 35674]\n",
    "dev_y_y =[1,2,3,4,5]\n",
    "plt.plot(dev_x, dev_y)\n",
    "plt.show()"
   ]
  },
  {
   "cell_type": "code",
   "execution_count": null,
   "metadata": {},
   "outputs": [],
   "source": [
    "from matplotlib import pyplot as plt\n",
    "import numpy as np\n",
    "\n",
    "with open('ContReal/Count_k_10_GCF_0041.txt', 'r') as f:\n",
    "    myData = [line.strip().split() for line in f]\n",
    "\n",
    "counts = [int(myData[i][1]) for i in range(len(myData))]\n",
    "\n",
    "plt.hist(counts, bins=20, density=True)  # density=False would make counts\n",
    "plt.ylabel('Counts')\n",
    "plt.xlabel('Data')"
   ]
  },
  {
   "cell_type": "code",
   "execution_count": null,
   "metadata": {},
   "outputs": [],
   "source": [
    "import pandas as pd\n",
    "from matplotlib import pyplot as plt\n",
    "\n",
    "with open('Genomas/Plot/Count_k_10_GCF_000418325.1_ASM41832v1_genomic.dat', 'r') as f:\n",
    "    myData = [line.strip().split() for line in f]\n",
    "\n",
    "\n",
    "counts = [int(myData[i][1]) for i in range(len(myData))]\n",
    "n_bins = 100\n",
    "#generar n_bins\n",
    "\n",
    "fig, ax = plt.subplots()\n",
    "arr = ax.hist(counts, ec='white', bins = n_bins)\n",
    "#print(counts)\n",
    "plt.show()\n",
    "\n"
   ]
  },
  {
   "cell_type": "code",
   "execution_count": 6,
   "metadata": {},
   "outputs": [
    {
     "name": "stdout",
     "output_type": "stream",
     "text": [
      "Divergencia: \n",
      "0.21154073926866587\n",
      "Distancia: \n",
      "0.4599355816510241\n"
     ]
    }
   ],
   "source": [
    "#!/usr/bin/env python\n",
    "from scipy.stats import entropy\n",
    "from numpy.linalg import norm\n",
    "import numpy as np\n",
    "#Histograma con kmers iguales en las mismas posiciones (frecuencia total)\n",
    "with open('ContComp/CompCount_k_10_GCF_0040_GCF_0010.txt', 'r') as f:\n",
    "    myData = [line.strip().split() for line in f]\n",
    "counts_genoma1 = [float(myData[i][1]) for i in range(len(myData))]\n",
    "counts_genoma2 = [float(myData[i][3]) for i in range(len(myData))]\n",
    "\n",
    "P = np.array(counts_genoma1, dtype=np.float64)\n",
    "Q = np.array(counts_genoma2, dtype=np.float64)\n",
    "\n",
    "\n",
    "def JSD(P, Q):\n",
    "    _P = P / norm(P, ord=1)\n",
    "    _Q = Q / norm(Q, ord=1)\n",
    "    _M = 0.5 * (_P + _Q)\n",
    "    return 0.5 * (entropy(_P, _M, base=2.0) + entropy(_Q, _M, base=2.0))\n",
    "\n",
    "\n",
    "print('Divergencia: ')\n",
    "divergencia = JSD(P, Q)\n",
    "print(divergencia)\n",
    "print('Distancia: ')\n",
    "print(divergencia**0.5)\n",
    "##########################################################################\n",
    "myData.clear()\n",
    "counts_genoma1.clear()\n",
    "counts_genoma2.clear()\n",
    "f.close()\n",
    "#print(entropy(P, base=2.0))\n",
    "#print(entropy(Q, base=2.0))"
   ]
  },
  {
   "cell_type": "code",
   "execution_count": null,
   "metadata": {},
   "outputs": [],
   "source": [
    "from matplotlib import pyplot as plt\n",
    "import numpy as np\n",
    "\n",
    "with open('ContReal/Count_k_10_GCF_0041.txt', 'r') as f:\n",
    "    myData1 = [line.strip().split() for line in f]\n",
    "with open('ContReal/Count_k_10_GCF_0029.txt', 'r') as f:\n",
    "    myData2 = [line.strip().split() for line in f]\n",
    "\n",
    "counts1 = [int(myData1[i][1]) for i in range(len(myData1))]\n",
    "counts1 = np.array(counts1)\n",
    "counts2 = [int(myData2[i][1]) for i in range(len(myData2))]\n",
    "counts2 = np.array(counts2)\n",
    "\n",
    "a = np.arange(0, 758359, 1)\n",
    "fig = plt.figure()\n",
    "ax = fig.add_axes([0,0,1,1])\n",
    "l1 = ax.plot(a, counts1, 'go--')\n",
    "l2 = ax.plot(a, counts2, 'ys--')\n",
    "ax.legend(labels = ('GCF_41', 'GCF_29'), loc='upper right')\n",
    "ax.set_title('Distribuciones 41 y 29 con K=10')\n",
    "ax.set_xlabel('Kmer')\n",
    "ax.set_ylabel('Cont')\n",
    "\"\"\" plt.plot(a, counts, color='green') \"\"\"\n",
    "\"\"\" plt.hist(counts, bins=np.arange(counts.min(), counts.max()+1)) \"\"\"\n",
    "plt.show()"
   ]
  }
 ],
 "metadata": {
  "interpreter": {
   "hash": "47c5ed772eb5def0eeeae61154be509193d40dfce45decc546d2102f0e2dd310"
  },
  "kernelspec": {
   "display_name": "Python 3.10.2 64-bit",
   "language": "python",
   "name": "python3"
  },
  "language_info": {
   "codemirror_mode": {
    "name": "ipython",
    "version": 3
   },
   "file_extension": ".py",
   "mimetype": "text/x-python",
   "name": "python",
   "nbconvert_exporter": "python",
   "pygments_lexer": "ipython3",
   "version": "3.10.2"
  },
  "orig_nbformat": 4
 },
 "nbformat": 4,
 "nbformat_minor": 2
}
